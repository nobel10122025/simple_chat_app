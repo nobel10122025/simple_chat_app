{
 "cells": [
  {
   "cell_type": "code",
   "execution_count": 12,
   "metadata": {},
   "outputs": [],
   "source": [
    "from langchain_community.document_loaders import PDFMinerLoader"
   ]
  },
  {
   "cell_type": "code",
   "execution_count": 24,
   "metadata": {},
   "outputs": [],
   "source": [
    "import os\n",
    "from dotenv import load_dotenv\n",
    "load_dotenv() ## aloading all the environment variable\n",
    "\n",
    "groq_api_key=os.getenv(\"GROQ_API_KEY\")"
   ]
  },
  {
   "cell_type": "code",
   "execution_count": 2,
   "metadata": {},
   "outputs": [
    {
     "data": {
      "text/plain": [
       "<langchain_community.document_loaders.pdf.PDFMinerLoader at 0x109c75d20>"
      ]
     },
     "execution_count": 2,
     "metadata": {},
     "output_type": "execute_result"
    }
   ],
   "source": [
    "loader=PDFMinerLoader(file_path=\"sample_book.pdf\")\n",
    "loader"
   ]
  },
  {
   "cell_type": "code",
   "execution_count": 3,
   "metadata": {},
   "outputs": [],
   "source": [
    "doc = loader.load()"
   ]
  },
  {
   "cell_type": "code",
   "execution_count": 4,
   "metadata": {},
   "outputs": [],
   "source": [
    "from langchain_text_splitters import RecursiveCharacterTextSplitter\n",
    "\n",
    "text_splitter=RecursiveCharacterTextSplitter(chunk_size=1000,chunk_overlap=200)\n",
    "documents=text_splitter.split_documents(doc)"
   ]
  },
  {
   "cell_type": "code",
   "execution_count": 5,
   "metadata": {},
   "outputs": [
    {
     "data": {
      "text/plain": [
       "Document(metadata={'source': 'sample_book.pdf'}, page_content=\"MANTRESWARA'S\\n\\nPHALA DEEPIKA\\n\\nEnglish Translation, Commentary\\n\\nand annotation by Dr. G. S. Kapoor\\n\\n\\x0cPreface\\n\\nShri   Mantreswara's   'Phaladeeplka'   holds   a   most   distinguished   position \\n\\namongst   the   great   ancient   astrological   classics   alongwith   Brihat   Parasara   Hora \\n\\nSastra, Varahmihira's Brihat Jataka and Vaidya Natha's Jataka Parijata. It deals in a \\n\\nmost   comprehensive   and   authoritative   manner   with   almost   all   the   astrological \\n\\naspects of human life. There can be said to be nothing that this great work has \\n\\nomitted from its purview.\\n\\nSome of the important subjects dealt with in a lucid manner in the book are: \\n\\ndescription   and   characteristic   features   of   the   various   signs,   planets   and   bhavas \\n\\n(houses), the various kinds of strengths of planets and their awasthas with their \\n\\neffects, sources of livelihood, yogas or planetary combinations leading to affluence\")"
      ]
     },
     "execution_count": 5,
     "metadata": {},
     "output_type": "execute_result"
    }
   ],
   "source": [
    "documents[0]"
   ]
  },
  {
   "cell_type": "code",
   "execution_count": 6,
   "metadata": {},
   "outputs": [],
   "source": [
    "from langchain_core.prompts import ChatPromptTemplate\n",
    "from langchain_core.output_parsers import StrOutputParser\n",
    "from langchain_community.llms import Ollama\n",
    "from langchain_ollama import OllamaEmbeddings\n",
    "from langchain_community.vectorstores import FAISS"
   ]
  },
  {
   "cell_type": "code",
   "execution_count": 7,
   "metadata": {},
   "outputs": [],
   "source": [
    "embeddings = OllamaEmbeddings(\n",
    "    model=\"mxbai-embed-large\",\n",
    ")"
   ]
  },
  {
   "cell_type": "code",
   "execution_count": 17,
   "metadata": {},
   "outputs": [],
   "source": [
    "vectorstoredb=FAISS.from_documents(documents,embeddings)"
   ]
  },
  {
   "cell_type": "code",
   "execution_count": 18,
   "metadata": {},
   "outputs": [
    {
     "data": {
      "text/plain": [
       "<langchain_community.vectorstores.faiss.FAISS at 0x16727bc70>"
      ]
     },
     "execution_count": 18,
     "metadata": {},
     "output_type": "execute_result"
    }
   ],
   "source": [
    "vectorstoredb"
   ]
  },
  {
   "cell_type": "code",
   "execution_count": null,
   "metadata": {},
   "outputs": [],
   "source": [
    "vectorstoredb.save_local(\"faiss_index\")"
   ]
  },
  {
   "cell_type": "code",
   "execution_count": 9,
   "metadata": {},
   "outputs": [],
   "source": [
    "vectorstoredb_local = FAISS.load_local(\"faiss_index\", embeddings=embeddings, allow_dangerous_deserialization=True)"
   ]
  },
  {
   "cell_type": "code",
   "execution_count": 10,
   "metadata": {},
   "outputs": [
    {
     "data": {
      "text/plain": [
       "'indolent and unhappy.\\n\\nIf Saturn be in the 4th house at birth, the native will be bereft of house, \\n\\nrespect and mother. He will be sickly in his childhood. He will also be unhappy.\\n\\n99\\n\\n\\x0cIf Saturn occupied the 5th house the person concerned will be evil minded \\n\\nand wicked.  He  will  be  bereft  of  learning,  children,   wealth  and  happiness.  He \\n\\nroams about aimlessly.\\n\\nShould Saturn occupy the 6th house at birth, the person concerned will be \\n\\nglutton, wealthy and will vanquish his enemies. He will also be arrogant.\\n\\nWhen   at   birth   Saturn   is   posited   in   the   7th   house,   the   native   develops \\n\\nrelations  with  women of questionable  character. He will  be poverty  stricken, a \\n\\nwanderer and unhappy.\\n\\nSaturn   occupying   the   8th   house   at   birth   will   make   the   native   unclean \\n\\nafflicted  with   piles,  devoid  of  wealth,  of  cruel   disposition,  hungry  and  will  be \\n\\navoided by his friends.'"
      ]
     },
     "execution_count": 10,
     "metadata": {},
     "output_type": "execute_result"
    }
   ],
   "source": [
    "query=\"Saturn in 6th house\"\n",
    "result=vectorstoredb_local.similarity_search(query)\n",
    "result[0].page_content"
   ]
  },
  {
   "cell_type": "code",
   "execution_count": 11,
   "metadata": {},
   "outputs": [
    {
     "data": {
      "text/plain": [
       "[Document(metadata={'source': 'sample_book.pdf'}, page_content='indolent and unhappy.\\n\\nIf Saturn be in the 4th house at birth, the native will be bereft of house, \\n\\nrespect and mother. He will be sickly in his childhood. He will also be unhappy.\\n\\n99\\n\\n\\x0cIf Saturn occupied the 5th house the person concerned will be evil minded \\n\\nand wicked.  He  will  be  bereft  of  learning,  children,   wealth  and  happiness.  He \\n\\nroams about aimlessly.\\n\\nShould Saturn occupy the 6th house at birth, the person concerned will be \\n\\nglutton, wealthy and will vanquish his enemies. He will also be arrogant.\\n\\nWhen   at   birth   Saturn   is   posited   in   the   7th   house,   the   native   develops \\n\\nrelations  with  women of questionable  character. He will  be poverty  stricken, a \\n\\nwanderer and unhappy.\\n\\nSaturn   occupying   the   8th   house   at   birth   will   make   the   native   unclean \\n\\nafflicted  with   piles,  devoid  of  wealth,  of  cruel   disposition,  hungry  and  will  be \\n\\navoided by his friends.'),\n",
       " Document(metadata={'source': 'sample_book.pdf'}, page_content=\"afflicted  with   piles,  devoid  of  wealth,  of  cruel   disposition,  hungry  and  will  be \\n\\navoided by his friends.\\n\\nShould   Saturn   occupy   the   9th   house,   the   native   will   be   devoid   of   good \\n\\nfortune, wealth, children father and will be irreligious. He will also be wicked.\\n\\nNotes   —  A View   has   been   taken   that   as   the   9th   house   is   the   house   of \\n\\nDharma, Saturn occupying it will bring about a revolution in this sphere. If there \\n\\nbe a Saturn endowed with strength in the 9th house and be aspected byjupiter, the \\n\\nperson   will   follow   Dharmic   principles   strictly   and   will   be   a   tapasvi.   In   Ma \\n\\nAnanamayee's birth Saturn is exalted in the 9th (Aquarius Ascendent). In Swami \\n\\nKarpatri's birth chart Saturn is in the 9th and the Sun, Jupiter, Venus and Mercury \\n\\nare in the lagna idnentical with Cancer.\\n\\nThis is horoscope of Swami Ramakrishna Paramahamsa. Saturn is exalted in \\n\\n9th.\"),\n",
       " Document(metadata={'source': 'sample_book.pdf'}, page_content='house containing a good number of benefic bindus in the Ashtakavarga of a planet, \\n\\nthey produce substantially good results of the house, the countig being reckoned \\n\\nfrom   the   house   occupied   by   the   karaka   planet   whose  Ashtakavarga   is   under \\n\\nconsideration. The previous verse gives the time of position of benefic bindus in a \\n\\nhouse. We give below the Prastar Ashtakavarga of Saturn\\n\\nAshatakavarga chakra of Saturn\\n\\nARS  TRS  GMN  CR  LEO  VRG  LBR  SCP  SAG  CAP  AQR  PSC \\n\\n0 \\n\\nSaturn \\nJupiter \\nMars \\nSun \\nVenus \\n0 \\nMercury   \\nMoon \\nLagna \\n\\n2 \\n\\n0 \\n\\n0 \\n\\n0 \\n3 \\n\\n0 \\n0 \\n0 \\n0 \\n0 \\n4 \\n\\n0 \\n0 \\n0 \\n0 \\n\\n0 \\n0 \\n0 \\n7 \\n\\n0 \\n0 \\n0 \\n0 \\n0 \\n0 \\n\\n6 \\n\\n0 \\n\\n1 \\n\\n0 \\n\\n0 \\n0 \\n\\n0 \\n4 \\n\\n0 \\n\\n0 \\n\\n0 \\n3 \\n\\n0 \\n\\n1 \\n\\n0 \\n\\n0 \\n0 \\n3 \\n\\n0 \\n0 \\n\\n0 \\n\\n0 \\n0 \\n\\n3 \\n\\n2 \\n\\nSaturn remains In a sign for 2 1/2 years. When will he produce his good or \\n\\nbad effects. One way to find out this has been given in verse.\\n\\n16-19. To ascertain the same draw a table of 96 squares and suppose we'),\n",
       " Document(metadata={'source': 'sample_book.pdf'}, page_content='diseases during his childhood. However, if any of the signs Sagittarius, Pisces, \\n\\nAquarius, Capricorn and Libra be the Lagna and Saturn should occupy it at birth, \\n\\nthe person concerned will be equal to king, the headman of a village or the mayor \\n\\nof a city, a great scholar and will be handsome. Uttarakalamrit and Mansagari have \\n\\nsupported this view.\\n\\nShould Saturn be in the 2nd house at birth, the face of the native will be \\n\\nunattractive. He will not take the righteous path and will be devoid of wealth but in \\n\\nthe latter part of his life he will quit his native place and will then possess wealth, \\n\\nconveyance and all enjoyments of life.\\n\\nIf Saturn should happen to occupy the 3rd house at birth, the native will be \\n\\nvery intelligent, wise and liberal and will live with his wife. However, he will be \\n\\nindolent and unhappy.\\n\\nIf Saturn be in the 4th house at birth, the native will be bereft of house, \\n\\nrespect and mother. He will be sickly in his childhood. He will also be unhappy.')]"
      ]
     },
     "execution_count": 11,
     "metadata": {},
     "output_type": "execute_result"
    }
   ],
   "source": [
    "result"
   ]
  },
  {
   "cell_type": "code",
   "execution_count": 14,
   "metadata": {},
   "outputs": [
    {
     "data": {
      "text/plain": [
       "ChatGroq(client=<groq.resources.chat.completions.Completions object at 0x10f4b1330>, async_client=<groq.resources.chat.completions.AsyncCompletions object at 0x10f4b1ff0>, model_name='Gemma2-9b-It', model_kwargs={}, groq_api_key=SecretStr('**********'))"
      ]
     },
     "execution_count": 14,
     "metadata": {},
     "output_type": "execute_result"
    }
   ],
   "source": [
    "from langchain_groq import ChatGroq\n",
    "llm=ChatGroq(model=\"Gemma2-9b-It\",groq_api_key=groq_api_key)\n",
    "llm"
   ]
  },
  {
   "cell_type": "code",
   "execution_count": 15,
   "metadata": {},
   "outputs": [
    {
     "data": {
      "text/plain": [
       "RunnableBinding(bound=RunnableBinding(bound=RunnableAssign(mapper={\n",
       "  context: RunnableLambda(format_docs)\n",
       "}), kwargs={}, config={'run_name': 'format_inputs'}, config_factories=[])\n",
       "| ChatPromptTemplate(input_variables=['context'], input_types={}, partial_variables={}, messages=[HumanMessagePromptTemplate(prompt=PromptTemplate(input_variables=['context'], input_types={}, partial_variables={}, template='\\nAnswer the following question based only on the provided context:\\n<context>\\n{context}\\n</context>\\n\\n\\n'), additional_kwargs={})])\n",
       "| ChatGroq(client=<groq.resources.chat.completions.Completions object at 0x10f4b1330>, async_client=<groq.resources.chat.completions.AsyncCompletions object at 0x10f4b1ff0>, model_name='Gemma2-9b-It', model_kwargs={}, groq_api_key=SecretStr('**********'))\n",
       "| StrOutputParser(), kwargs={}, config={'run_name': 'stuff_documents_chain'}, config_factories=[])"
      ]
     },
     "execution_count": 15,
     "metadata": {},
     "output_type": "execute_result"
    }
   ],
   "source": [
    "## Retrieval Chain, Document chain\n",
    "\n",
    "from langchain.chains.combine_documents import create_stuff_documents_chain\n",
    "from langchain_core.prompts import ChatPromptTemplate\n",
    "\n",
    "prompt=ChatPromptTemplate.from_template(\n",
    "    \"\"\"\n",
    "Answer the following question based only on the provided context:\n",
    "<context>\n",
    "{context}\n",
    "</context>\n",
    "\n",
    "\n",
    "\"\"\"\n",
    ")\n",
    "\n",
    "document_chain=create_stuff_documents_chain(llm,prompt)\n",
    "document_chain"
   ]
  },
  {
   "cell_type": "code",
   "execution_count": 16,
   "metadata": {},
   "outputs": [
    {
     "data": {
      "text/plain": [
       "'The context states that there are important concepts in astrology.  \\n'"
      ]
     },
     "execution_count": 16,
     "metadata": {},
     "output_type": "execute_result"
    }
   ],
   "source": [
    "from langchain_core.documents import Document\n",
    "document_chain.invoke({\n",
    "    \"context\":[Document(page_content=\"there are some important concepts in astrology\")]\n",
    "})"
   ]
  },
  {
   "cell_type": "code",
   "execution_count": 14,
   "metadata": {},
   "outputs": [
    {
     "data": {
      "text/plain": [
       "<langchain_chroma.vectorstores.Chroma at 0x12f6c2bd0>"
      ]
     },
     "execution_count": 14,
     "metadata": {},
     "output_type": "execute_result"
    }
   ],
   "source": [
    "vectorstoredb"
   ]
  },
  {
   "cell_type": "code",
   "execution_count": 18,
   "metadata": {},
   "outputs": [],
   "source": [
    "retriever=vectorstoredb_local.as_retriever()\n",
    "from langchain.chains import create_retrieval_chain\n",
    "retrieval_chain=create_retrieval_chain(retriever,document_chain)"
   ]
  },
  {
   "cell_type": "code",
   "execution_count": 19,
   "metadata": {},
   "outputs": [
    {
     "data": {
      "text/plain": [
       "RunnableBinding(bound=RunnableAssign(mapper={\n",
       "  context: RunnableBinding(bound=RunnableLambda(lambda x: x['input'])\n",
       "           | VectorStoreRetriever(tags=['FAISS', 'OllamaEmbeddings'], vectorstore=<langchain_community.vectorstores.faiss.FAISS object at 0x10dafdcf0>, search_kwargs={}), kwargs={}, config={'run_name': 'retrieve_documents'}, config_factories=[])\n",
       "})\n",
       "| RunnableAssign(mapper={\n",
       "    answer: RunnableBinding(bound=RunnableBinding(bound=RunnableAssign(mapper={\n",
       "              context: RunnableLambda(format_docs)\n",
       "            }), kwargs={}, config={'run_name': 'format_inputs'}, config_factories=[])\n",
       "            | ChatPromptTemplate(input_variables=['context'], input_types={}, partial_variables={}, messages=[HumanMessagePromptTemplate(prompt=PromptTemplate(input_variables=['context'], input_types={}, partial_variables={}, template='\\nAnswer the following question based only on the provided context:\\n<context>\\n{context}\\n</context>\\n\\n\\n'), additional_kwargs={})])\n",
       "            | ChatGroq(client=<groq.resources.chat.completions.Completions object at 0x10f4b1330>, async_client=<groq.resources.chat.completions.AsyncCompletions object at 0x10f4b1ff0>, model_name='Gemma2-9b-It', model_kwargs={}, groq_api_key=SecretStr('**********'))\n",
       "            | StrOutputParser(), kwargs={}, config={'run_name': 'stuff_documents_chain'}, config_factories=[])\n",
       "  }), kwargs={}, config={'run_name': 'retrieval_chain'}, config_factories=[])"
      ]
     },
     "execution_count": 19,
     "metadata": {},
     "output_type": "execute_result"
    }
   ],
   "source": [
    "retrieval_chain"
   ]
  },
  {
   "cell_type": "code",
   "execution_count": 21,
   "metadata": {},
   "outputs": [
    {
     "data": {
      "text/plain": [
       "'This text describes the astrological meanings of Venus in different houses. \\n\\nIt states that if Venus is in the 2nd house at birth, the native will be a poet and enjoy riches of various kinds. \\n'"
      ]
     },
     "execution_count": 21,
     "metadata": {},
     "output_type": "execute_result"
    }
   ],
   "source": [
    "response=retrieval_chain.invoke({\"input\":\"venus in 12th house\"})\n",
    "response['answer']"
   ]
  },
  {
   "cell_type": "code",
   "execution_count": 22,
   "metadata": {},
   "outputs": [
    {
     "data": {
      "text/plain": [
       "{'input': 'venus in 12th house',\n",
       " 'context': [Document(metadata={'source': 'sample_book.pdf'}, page_content='fearless. He gets few children; but enjoys the comforts of conveyances.\\n\\nWhen Jupiter  occupies the  12th  house,  the  native  will  earn  animosity  ol \\n\\nothers,   and   will   himself   use   abusive   language.   He   will   be   childless   ,   sinful, \\n\\nindolent and a person who serves others.\\n\\nVENUS\\n\\n17-19.   If  Venus   be   posited   in   the   lagna   at   birth,   the   native   will   have   a \\n\\nbeautiful and attractive body, and will be happy and longlived.\\n\\nNotes—Venus is the benefic No. 2. He can never be as beneficial as Jupiter \\n\\nin the Lagna because he possesses one lull aspect only and that will fall on the 7th \\n\\nhouse only.\\n\\nShould Venus occupy the 2nd house at birth, the native will be a poet and \\n\\nwill enjoy riches of various kinds.\\n\\nIf Venus be In the 3rd house at birth, the native will be miserly, unpopular, \\n\\ndevoid of wealth, happiness and wife.\\n\\nWith Venus occupying the 4th house, the person born, the native will be'),\n",
       "  Document(metadata={'source': 'sample_book.pdf'}, page_content='If Venus be In the 3rd house at birth, the native will be miserly, unpopular, \\n\\ndevoid of wealth, happiness and wife.\\n\\nWith Venus occupying the 4th house, the person born, the native will be \\n\\nendowed with good conveyances, a decent house, ornaments, clothes and scents.\\n\\nWhen Venus be in the 5th house at birth, the native will be endowed with \\n\\nwealth and will be as influential and renowned as a king. He will be learned and \\n\\nwill be blessed with the happiness of children.\\n\\nWith   Venus   posited   in   the   6th   house   at   birth,   the   native   will   have   no \\n\\nenemies, but he will be devoid of wealth. He will develop ilicit relations  with \\n\\nseveral young girls, but will not enjoy happiness.\\n\\nShould  Venus   be   placed   in   7th   house   at   birth,   the   native   will   enjoy   the \\n\\ncompany of a faithful and beautiful wife and he may lose his wife. He will be \\n\\nwealthy and will have intrigues with bad women.'),\n",
       "  Document(metadata={'source': 'sample_book.pdf'}, page_content=\"company of a faithful and beautiful wife and he may lose his wife. He will be \\n\\nwealthy and will have intrigues with bad women.\\n\\nVenus   posited   in   the   8th   house   at   birth,   will   make   the   native   wealthy, \\n\\nlonglived and a landlord.\\n\\nIf Venus occupies the 9th house at birth, the native will draw his fortune \\n\\nthrough   the   beneficience   of   the   king.   He   will   be   blessed   with   wife,   sons   and \\n\\n98\\n\\n\\x0cfriends.\\n\\nWith   Venus   occupying   the   10th   house   at   birth,   the   native   will   perform \\n\\nvirtuous deeds. He will enjoy happiness from friends, will be greatly honoured, \\n\\nwill enjoy high reputation and will attain a high status. Should Venus occupy the \\n\\n11th house at birth, the native will be wealthy, but will have connections with other \\n\\npeople's wives. He will enjoy all kinds of happiness.\\n\\nIf   Venus   occupies   the   12th   house   at   birth,   the   native   will   enjoy   sexual\"),\n",
       "  Document(metadata={'source': 'sample_book.pdf'}, page_content=\"they are in any enemy's house or if they occupy the 6th, 8th or the 12th house from \\n\\nthe Ascendant. If they occupy other places, they are said to be well disposed.\\n\\nIf   there   be   a  query   whether   the   water   in   a   reservoir   (or   in   an   irrigation \\n\\nproject)  will   increase   or  decrease,  increase   in   water   should  be  predicted  if   the \\n\\nMoon be in the 12th 11th, 1st, 6th. 5th or the 7th house at the time of the query.\\n\\nNotes — The Moon is said to be eclipsed if she is 12° away from the Sun. \\n\\n26\\n\\n\\x0cMars is eclipsed when he is 17° away from the Sun. Mercury in direct motion is \\n\\neclipsed when he is 14° away from the Sun. Retrograde Mercury is eclipsed when \\n\\nhe is 12° away form the Sun. Jupiter, Venus and Saturn are said to be eclipsed if \\n\\nthey are 11°, 10° and 15° respectively away from the Sun. A retrograde Venus is \\n\\neclipsed if he is 8° away from the Sun.\\n\\n37. The various kinds of trees and plants signified by the different planets\")],\n",
       " 'answer': 'This text describes the astrological meanings of Venus in different houses. \\n\\nIt states that if Venus is in the 2nd house at birth, the native will be a poet and enjoy riches of various kinds. \\n'}"
      ]
     },
     "execution_count": 22,
     "metadata": {},
     "output_type": "execute_result"
    }
   ],
   "source": [
    "response"
   ]
  },
  {
   "cell_type": "code",
   "execution_count": 23,
   "metadata": {},
   "outputs": [
    {
     "data": {
      "text/plain": [
       "[Document(metadata={'source': 'sample_book.pdf'}, page_content='fearless. He gets few children; but enjoys the comforts of conveyances.\\n\\nWhen Jupiter  occupies the  12th  house,  the  native  will  earn  animosity  ol \\n\\nothers,   and   will   himself   use   abusive   language.   He   will   be   childless   ,   sinful, \\n\\nindolent and a person who serves others.\\n\\nVENUS\\n\\n17-19.   If  Venus   be   posited   in   the   lagna   at   birth,   the   native   will   have   a \\n\\nbeautiful and attractive body, and will be happy and longlived.\\n\\nNotes—Venus is the benefic No. 2. He can never be as beneficial as Jupiter \\n\\nin the Lagna because he possesses one lull aspect only and that will fall on the 7th \\n\\nhouse only.\\n\\nShould Venus occupy the 2nd house at birth, the native will be a poet and \\n\\nwill enjoy riches of various kinds.\\n\\nIf Venus be In the 3rd house at birth, the native will be miserly, unpopular, \\n\\ndevoid of wealth, happiness and wife.\\n\\nWith Venus occupying the 4th house, the person born, the native will be'),\n",
       " Document(metadata={'source': 'sample_book.pdf'}, page_content='If Venus be In the 3rd house at birth, the native will be miserly, unpopular, \\n\\ndevoid of wealth, happiness and wife.\\n\\nWith Venus occupying the 4th house, the person born, the native will be \\n\\nendowed with good conveyances, a decent house, ornaments, clothes and scents.\\n\\nWhen Venus be in the 5th house at birth, the native will be endowed with \\n\\nwealth and will be as influential and renowned as a king. He will be learned and \\n\\nwill be blessed with the happiness of children.\\n\\nWith   Venus   posited   in   the   6th   house   at   birth,   the   native   will   have   no \\n\\nenemies, but he will be devoid of wealth. He will develop ilicit relations  with \\n\\nseveral young girls, but will not enjoy happiness.\\n\\nShould  Venus   be   placed   in   7th   house   at   birth,   the   native   will   enjoy   the \\n\\ncompany of a faithful and beautiful wife and he may lose his wife. He will be \\n\\nwealthy and will have intrigues with bad women.'),\n",
       " Document(metadata={'source': 'sample_book.pdf'}, page_content=\"company of a faithful and beautiful wife and he may lose his wife. He will be \\n\\nwealthy and will have intrigues with bad women.\\n\\nVenus   posited   in   the   8th   house   at   birth,   will   make   the   native   wealthy, \\n\\nlonglived and a landlord.\\n\\nIf Venus occupies the 9th house at birth, the native will draw his fortune \\n\\nthrough   the   beneficience   of   the   king.   He   will   be   blessed   with   wife,   sons   and \\n\\n98\\n\\n\\x0cfriends.\\n\\nWith   Venus   occupying   the   10th   house   at   birth,   the   native   will   perform \\n\\nvirtuous deeds. He will enjoy happiness from friends, will be greatly honoured, \\n\\nwill enjoy high reputation and will attain a high status. Should Venus occupy the \\n\\n11th house at birth, the native will be wealthy, but will have connections with other \\n\\npeople's wives. He will enjoy all kinds of happiness.\\n\\nIf   Venus   occupies   the   12th   house   at   birth,   the   native   will   enjoy   sexual\"),\n",
       " Document(metadata={'source': 'sample_book.pdf'}, page_content=\"they are in any enemy's house or if they occupy the 6th, 8th or the 12th house from \\n\\nthe Ascendant. If they occupy other places, they are said to be well disposed.\\n\\nIf   there   be   a  query   whether   the   water   in   a   reservoir   (or   in   an   irrigation \\n\\nproject)  will   increase   or  decrease,  increase   in   water   should  be  predicted  if   the \\n\\nMoon be in the 12th 11th, 1st, 6th. 5th or the 7th house at the time of the query.\\n\\nNotes — The Moon is said to be eclipsed if she is 12° away from the Sun. \\n\\n26\\n\\n\\x0cMars is eclipsed when he is 17° away from the Sun. Mercury in direct motion is \\n\\neclipsed when he is 14° away from the Sun. Retrograde Mercury is eclipsed when \\n\\nhe is 12° away form the Sun. Jupiter, Venus and Saturn are said to be eclipsed if \\n\\nthey are 11°, 10° and 15° respectively away from the Sun. A retrograde Venus is \\n\\neclipsed if he is 8° away from the Sun.\\n\\n37. The various kinds of trees and plants signified by the different planets\")]"
      ]
     },
     "execution_count": 23,
     "metadata": {},
     "output_type": "execute_result"
    }
   ],
   "source": [
    "response['context']"
   ]
  },
  {
   "cell_type": "code",
   "execution_count": 8,
   "metadata": {},
   "outputs": [],
   "source": [
    "# prompt=ChatPromptTemplate.from_messages(\n",
    "#     [\n",
    "#         (\"system\",\"You are a helpful assistant. Please respond to the question asked\"),\n",
    "#         (\"user\",\"Question:{question}\")\n",
    "#     ]\n",
    "# )\n",
    "# llm=Ollama(model=\"llama3\")\n",
    "# output_parser=StrOutputParser()\n",
    "# chain=prompt|llm|output_parser\n",
    "# chain.invoke({\"question\":\"what is the effect of venus in 12th house?\"})"
   ]
  }
 ],
 "metadata": {
  "kernelspec": {
   "display_name": ".venv",
   "language": "python",
   "name": "python3"
  },
  "language_info": {
   "codemirror_mode": {
    "name": "ipython",
    "version": 3
   },
   "file_extension": ".py",
   "mimetype": "text/x-python",
   "name": "python",
   "nbconvert_exporter": "python",
   "pygments_lexer": "ipython3",
   "version": "3.10.0"
  },
  "orig_nbformat": 4
 },
 "nbformat": 4,
 "nbformat_minor": 2
}
